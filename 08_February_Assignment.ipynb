{
 "cells": [
  {
   "cell_type": "markdown",
   "id": "a642172f-9148-4d2c-83d4-1c871c7051fc",
   "metadata": {},
   "source": [
    "# Assignment_09_AND_08th_February_Assignment"
   ]
  },
  {
   "cell_type": "markdown",
   "id": "8dbdb5a2-34a1-4a32-a498-bbf168a04795",
   "metadata": {},
   "source": [
    "### Q1. What is Abstraction in OOps? Explain with an example."
   ]
  },
  {
   "cell_type": "markdown",
   "id": "5d5b6c38-ab87-4263-957e-cffbf15b8f40",
   "metadata": {},
   "source": [
    "### Abstraction is the process of hiding the implementation details of a class and only exposing the essential features to the user. \n",
    "### It focuses on what an object does rather than how it does it. \n",
    "### Abstraction is achieved in Python using abstract classes and interfaces.\n",
    "\n",
    "### Example:"
   ]
  },
  {
   "cell_type": "code",
   "execution_count": 4,
   "id": "6ddc39ff-9e79-47b4-9984-dcfca7e32b68",
   "metadata": {},
   "outputs": [
    {
     "name": "stdout",
     "output_type": "stream",
     "text": [
      "Bark\n",
      "Meow\n"
     ]
    }
   ],
   "source": [
    "from abc import ABC, abstractmethod\n",
    "\n",
    "# Abstract class\n",
    "class Animal(ABC):\n",
    "    @abstractmethod\n",
    "    def sound(self):\n",
    "        pass\n",
    "\n",
    "# Concrete class\n",
    "class Dog(Animal):\n",
    "    def sound(self):\n",
    "        return \"Bark\"\n",
    "\n",
    "class Cat(Animal):\n",
    "    def sound(self):\n",
    "        return \"Meow\"\n",
    "\n",
    "# Usage\n",
    "dog = Dog()\n",
    "cat = Cat()\n",
    "print(dog.sound())  # Output: Bark\n",
    "print(cat.sound())  # Output: Meow\n"
   ]
  },
  {
   "cell_type": "markdown",
   "id": "eafa4960-85db-4f64-858e-421c843abcb6",
   "metadata": {},
   "source": [
    "### In above example:\n",
    "\n",
    "### The Animal class is an abstract class.\n",
    "### The sound method is an abstract method that must be implemented by any concrete subclass."
   ]
  },
  {
   "cell_type": "code",
   "execution_count": null,
   "id": "7e67a779-e327-4e50-8bd5-d165a12799da",
   "metadata": {},
   "outputs": [],
   "source": []
  },
  {
   "cell_type": "markdown",
   "id": "343a373f-cab5-42de-9429-05b80d35c625",
   "metadata": {},
   "source": [
    "### Q2. Differentiate between Abstraction and Encapsulation. Explain with an example."
   ]
  },
  {
   "cell_type": "raw",
   "id": "02692de2-cf3e-44c0-9891-0476dbfc1a52",
   "metadata": {},
   "source": [
    "\n",
    "### Differentiate Between Abstraction and Encapsulation\n",
    "\n",
    "| **Aspect**          | **Abstraction**                                  | **Encapsulation**                                            |\n",
    "|---------------------|--------------------------------------------------|--------------------------------------------------------------|\n",
    "| **Definition**      | Hides implementation details and shows only      | Wraps data and methods together in a single unit\n",
    "                      | the essential features.                          |  to restrict direct access.                                  |\n",
    "| **Purpose**         | Focuses on **what** an object does.              | Focuses on **how** data is accessed and modified.            |\n",
    "| **Implementation**  | Achieved using abstract classes and interfaces.  | Achieved using access modifiers (e.g., private, protected).  |\n",
    "| **Example**         | Abstract class with abstract methods.            | Class with private variables and getter/setter methods.      |\n",
    "\n",
    "\n"
   ]
  },
  {
   "cell_type": "markdown",
   "id": "7dd6f8df-6ae2-415e-87bd-8d3a8fcdb462",
   "metadata": {},
   "source": [
    "### Example:\n",
    "\n",
    "### Abstraction:"
   ]
  },
  {
   "cell_type": "code",
   "execution_count": 17,
   "id": "4a97624f-8d69-47ae-bd8a-39fd56ee0f16",
   "metadata": {},
   "outputs": [],
   "source": [
    "from abc import ABC, abstractmethod\n",
    "\n",
    "class Shape(ABC):\n",
    "    @abstractmethod\n",
    "    def area(self):\n",
    "        pass\n",
    "\n",
    "class Circle(Shape):\n",
    "    def __init__(self, radius):\n",
    "        self.radius = radius\n",
    "\n",
    "    def area(self):\n",
    "        return 3.14 * self.radius ** 2\n"
   ]
  },
  {
   "cell_type": "markdown",
   "id": "91dc3f99-3aa1-4e91-a9a7-c2b3b0dcaa1c",
   "metadata": {},
   "source": [
    "### Encapsulation:"
   ]
  },
  {
   "cell_type": "code",
   "execution_count": 20,
   "id": "84726668-3ec3-4355-b95f-1c5be69aa394",
   "metadata": {},
   "outputs": [],
   "source": [
    "class BankAccount:\n",
    "    def __init__(self, balance):\n",
    "        self.__balance = balance  # Private attribute\n",
    "\n",
    "    def deposit(self, amount):\n",
    "        self.__balance += amount\n",
    "\n",
    "    def get_balance(self):\n",
    "        return self.__balance\n"
   ]
  },
  {
   "cell_type": "code",
   "execution_count": null,
   "id": "694b3dc9-ec67-4473-8e7f-5b220c50f2e6",
   "metadata": {},
   "outputs": [],
   "source": []
  },
  {
   "cell_type": "markdown",
   "id": "7aa86e39-bd66-4668-b90d-8cbae3becb70",
   "metadata": {},
   "source": [
    "## Q3. What is abc module in python? Why is it used?"
   ]
  },
  {
   "cell_type": "markdown",
   "id": "2bd9c5d4-2204-439d-8470-5de1149af2cb",
   "metadata": {},
   "source": [
    "### The abc module (Abstract Base Classes) provides the tools to define abstract base classes in Python. \n",
    "### It is used to enforce that derived classes implement specific methods defined in the abstract base class.\n",
    "\n",
    "### Why Use abc Module?\n",
    "\n",
    "### 1. To create abstract base classes.\n",
    "### 2. To ensure subclasses implement the required methods.\n",
    "### 3. To achieve a blueprint-like structure in object-oriented design.\n",
    "### Example:"
   ]
  },
  {
   "cell_type": "code",
   "execution_count": 25,
   "id": "61c3bb3d-320e-4e9e-a425-e21175cf37a2",
   "metadata": {},
   "outputs": [
    {
     "name": "stdout",
     "output_type": "stream",
     "text": [
      "Car engine started.\n"
     ]
    }
   ],
   "source": [
    "from abc import ABC, abstractmethod\n",
    "\n",
    "class Vehicle(ABC):\n",
    "    @abstractmethod\n",
    "    def start_engine(self):\n",
    "        pass\n",
    "\n",
    "class Car(Vehicle):\n",
    "    def start_engine(self):\n",
    "        print(\"Car engine started.\")\n",
    "\n",
    "car = Car()\n",
    "car.start_engine()  # Output: Car engine started.\n"
   ]
  },
  {
   "cell_type": "code",
   "execution_count": null,
   "id": "a21ea5d5-fc4a-41e1-8d2e-ef7b9afeb7ef",
   "metadata": {},
   "outputs": [],
   "source": []
  },
  {
   "cell_type": "markdown",
   "id": "8a5027a0-e3ff-402e-bc3d-067192ea3d11",
   "metadata": {},
   "source": [
    "## Q4. How can we achieve data abstraction?"
   ]
  },
  {
   "cell_type": "markdown",
   "id": "20fc678b-e4a0-4fbd-a79b-01d589b69680",
   "metadata": {},
   "source": [
    "### Data abstraction can be achieved using:\n",
    "\n",
    "### 1. Abstract Classes: Using the abc module to define abstract methods that must be implemented by subclasses.\n",
    "### 2. Encapsulation: By restricting access to certain attributes and methods using access modifiers (private, protected).\n",
    "\n",
    "### Example Using Abstract Class:"
   ]
  },
  {
   "cell_type": "code",
   "execution_count": 30,
   "id": "326d2a1d-92ac-4a3b-8e07-9c2c711b7a04",
   "metadata": {},
   "outputs": [],
   "source": [
    "from abc import ABC, abstractmethod\n",
    "\n",
    "class Payment(ABC):\n",
    "    @abstractmethod\n",
    "    def process_payment(self):\n",
    "        pass\n",
    "\n",
    "class CreditCardPayment(Payment):\n",
    "    def process_payment(self):\n",
    "        print(\"Processing credit card payment.\")\n"
   ]
  },
  {
   "cell_type": "markdown",
   "id": "7da46851-f8ed-436a-b545-027d86850221",
   "metadata": {},
   "source": [
    "### Example Using Encapsulation:"
   ]
  },
  {
   "cell_type": "code",
   "execution_count": 33,
   "id": "b354d5d7-9727-413c-856c-e87fd0f920cf",
   "metadata": {},
   "outputs": [],
   "source": [
    "class Employee:\n",
    "    def __init__(self, name, salary):\n",
    "        self.__salary = salary  # Private attribute\n",
    "\n",
    "    def get_salary(self):\n",
    "        return self.__salary\n"
   ]
  },
  {
   "cell_type": "code",
   "execution_count": null,
   "id": "3a3ae765-f15a-46fc-8ef5-89ad080f9b33",
   "metadata": {},
   "outputs": [],
   "source": []
  },
  {
   "cell_type": "markdown",
   "id": "1a533a98-31fc-45bf-a158-f399e75d02c4",
   "metadata": {},
   "source": [
    "## Q5. Can we create an instance of an abstract class? Explain your answer."
   ]
  },
  {
   "cell_type": "markdown",
   "id": "910e0ce8-eebd-45f1-ac4a-bfd277805f04",
   "metadata": {},
   "source": [
    "### No, we cannot create an instance of an abstract class. \n",
    "### Abstract classes are meant to serve as blueprints for other classes. \n",
    "### They may contain abstract methods that have no implementation, which makes instantiating them meaningless.\n",
    "\n",
    "### Example:"
   ]
  },
  {
   "cell_type": "code",
   "execution_count": 40,
   "id": "51ec5b4c-ee78-4cda-bc2b-76130a6fd78a",
   "metadata": {},
   "outputs": [],
   "source": [
    "from abc import ABC, abstractmethod\n",
    "\n",
    "class Animal(ABC):\n",
    "    @abstractmethod\n",
    "    def sound(self):\n",
    "        pass\n",
    "\n",
    "# Attempting to create an instance\n",
    "# animal = Animal()  # Raises TypeError: Can't instantiate abstract class\n"
   ]
  },
  {
   "cell_type": "markdown",
   "id": "844fc2a8-6b98-45cd-b0bd-692288de3173",
   "metadata": {},
   "source": [
    "#### Why Not?\n",
    "\n",
    "#### 1. Abstract classes often contain abstract methods that are not implemented.\n",
    "#### 2. Creating an instance of such a class would leave the abstract methods undefined, which violates the purpose of abstraction."
   ]
  },
  {
   "cell_type": "code",
   "execution_count": null,
   "id": "4af9e844-574d-442b-baae-6d9e5cc85892",
   "metadata": {},
   "outputs": [],
   "source": []
  }
 ],
 "metadata": {
  "kernelspec": {
   "display_name": "Python 3 (ipykernel)",
   "language": "python",
   "name": "python3"
  },
  "language_info": {
   "codemirror_mode": {
    "name": "ipython",
    "version": 3
   },
   "file_extension": ".py",
   "mimetype": "text/x-python",
   "name": "python",
   "nbconvert_exporter": "python",
   "pygments_lexer": "ipython3",
   "version": "3.11.7"
  }
 },
 "nbformat": 4,
 "nbformat_minor": 5
}
